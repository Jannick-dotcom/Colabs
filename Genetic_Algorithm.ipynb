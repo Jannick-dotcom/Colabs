{
  "nbformat": 4,
  "nbformat_minor": 0,
  "metadata": {
    "colab": {
      "provenance": [],
      "authorship_tag": "ABX9TyNx2K/Hs/3vQABjZQGREJdn",
      "include_colab_link": true
    },
    "kernelspec": {
      "name": "python3",
      "display_name": "Python 3"
    },
    "language_info": {
      "name": "python"
    }
  },
  "cells": [
    {
      "cell_type": "markdown",
      "metadata": {
        "id": "view-in-github",
        "colab_type": "text"
      },
      "source": [
        "<a href=\"https://colab.research.google.com/github/Jannick-dotcom/Colabs/blob/master/Genetic_Algorithm.ipynb\" target=\"_parent\"><img src=\"https://colab.research.google.com/assets/colab-badge.svg\" alt=\"Open In Colab\"/></a>"
      ]
    },
    {
      "cell_type": "code",
      "execution_count": 15,
      "metadata": {
        "colab": {
          "base_uri": "https://localhost:8080/",
          "height": 378
        },
        "id": "JOKfvLtrcNMt",
        "outputId": "335cd911-2d74-48b3-8310-362de02e13d6"
      },
      "outputs": [
        {
          "output_type": "display_data",
          "data": {
            "text/plain": [
              "<Figure size 576x432 with 1 Axes>"
            ],
            "image/png": "[encoded data removed]"
          },
          "metadata": {
            "needs_background": "light"
          }
        }
      ],
      "source": [
        "import numpy as np\n",
        "import matplotlib.pyplot as plt\n",
        "\n",
        "# specifying the size for each and\n",
        "# every matplotlib plot globally\n",
        "plt.rcParams['figure.figsize'] = [8, 6]\n",
        "\n",
        "# defining list objects with range of the graph\n",
        "x1_range = [-100, 100]\n",
        "x2_range = [-100, 100]\n",
        "\n",
        "# empty list object to store the population\n",
        "population = []\n",
        "\n",
        "# this function is used to generate the population\n",
        "# and appending it to the population list defined above\n",
        "# it takes the attributes as no. of features in a\n",
        "# population and size that we have in it\n",
        "def populate(features, size = 1000):\n",
        "\t\n",
        "\t# here we are defining the coordinate\n",
        "\t# for each entity in a population\n",
        "\tinitial = []\n",
        "\t\n",
        "\tfor _ in range(size):\n",
        "\t\tentity = []\n",
        "\t\tfor feature in features:\n",
        "\t\t\t\n",
        "\t\t\t# this * feature variable unpacks a list\n",
        "\t\t\t# or tuple into position arguments.\n",
        "\t\t\tval = np.random.randint(*feature)\n",
        "\t\t\tentity.append(val)\n",
        "\t\tinitial.append(entity)\n",
        "\t\n",
        "\treturn np.array(initial)\n",
        "\n",
        "# defining the virus in the form of numpy array\n",
        "virus = np.array([5, 5])\n",
        "\n",
        "# only the 100 fit ones will survive in this one\n",
        "def fitness(population, virus, size = 100):\n",
        "\t\n",
        "\tscores = []\n",
        "\t\n",
        "\t# enumerate also provides the index as for the iterator\n",
        "\tfor index, entity in enumerate(population):\n",
        "\t\tscore = np.sum((entity-virus)**2)\n",
        "\t\tscores.append((score, index))\n",
        "\t\n",
        "\tscores = sorted(scores)[:size]\n",
        "\t\n",
        "\treturn np.array(scores)[:, 1]\n",
        "\n",
        "# this function is used to plot the graph\n",
        "def draw(population, virus):\n",
        "\tplt.xlim((-100, 100))\n",
        "\tplt.ylim((-100, 100))\n",
        "\tplt.scatter(population[:, 0], population[:, 1], c ='green', s = 12)\n",
        "\tplt.scatter(virus[0], virus[1], c ='red', s = 60)\n",
        "\t\n",
        "\t\n",
        "def reduction(population, virus, size = 100):\n",
        "\t\n",
        "\t# only the index of the fittest ones\n",
        "\t# is returned in sorted format\n",
        "\tfittest = fitness(population, virus, size)\n",
        "\n",
        "\tnew_pop = []\n",
        "\t\n",
        "\tfor item in fittest:\n",
        "\t\tnew_pop.append(population[item])\n",
        "\t\t\n",
        "\treturn np.array(new_pop)\n",
        "\n",
        "# cross mutation in order to generate the next generation\n",
        "# of the population which will be more immune to virus than previous\n",
        "def cross(population, size = 1000):\n",
        "\t\n",
        "\tnew_pop = []\n",
        "\t\n",
        "\tfor _ in range(size):\n",
        "\t\tp = population[np.random.randint(0, len(population))]\n",
        "\t\tm = population[np.random.randint(0, len(population))]\n",
        "\t\n",
        "\t\t# we are only considering half of each\n",
        "\t\t# without considering random selection\n",
        "\t\tentity = []\n",
        "\t\tentity.append(*p[:len(p)//2])\n",
        "\t\tentity.append(*m[len(m)//2:])\n",
        "\t\t\n",
        "\t\tnew_pop.append(entity)\n",
        "\t\n",
        "\treturn np.array(new_pop)\n",
        "\n",
        "# generating and adding the random features to\n",
        "# the entity so that it looks more distributed\n",
        "def mutate(population):\n",
        "\t\n",
        "\treturn population + np.random.randint(-10, 10, 2000).reshape(1000, 2)\n",
        "\n",
        "\n",
        "# the complete cycle of the above steps\n",
        "population = populate([x1_range, x2_range], 1000)\n",
        "\n",
        "# gens is the number of generation\n",
        "def cycle(population, virus, gens = 1):\n",
        "\t# if we change the value of gens, we'll get\n",
        "\t# next and genetically more powerful generation\n",
        "\t# of the population\n",
        "\tfor _ in range(gens):\n",
        "\t\tpopulation = reduction(population, virus, 10)\n",
        "\t\tpopulation = cross(population, 1000)\n",
        "\t\tpopulation = mutate(population)\n",
        "\treturn population\n",
        "\n",
        "\n",
        "population = cycle(population, virus, 100)\n",
        "draw(population, virus)"
      ]
    }
  ]
}