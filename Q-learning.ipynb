{
  "nbformat": 4,
  "nbformat_minor": 0,
  "metadata": {
    "colab": {
      "provenance": [],
      "authorship_tag": "ABX9TyPb2JV0VZFvUI1G9W1Qew3l",
      "include_colab_link": true
    },
    "kernelspec": {
      "name": "python3",
      "display_name": "Python 3"
    },
    "language_info": {
      "name": "python"
    }
  },
  "cells": [
    {
      "cell_type": "markdown",
      "metadata": {
        "id": "view-in-github",
        "colab_type": "text"
      },
      "source": [
        "<a href=\"https://colab.research.google.com/github/Jannick-dotcom/Colabs/blob/master/Q-learning.ipynb\" target=\"_parent\"><img src=\"https://colab.research.google.com/assets/colab-badge.svg\" alt=\"Open In Colab\"/></a>"
      ]
    },
    {
      "cell_type": "code",
      "execution_count": 1,
      "metadata": {
        "id": "ND5iZD6Rgtx0"
      },
      "outputs": [],
      "source": [
        "import numpy as np\n",
        "import pylab as pl\n",
        "import networkx as nx\n"
      ]
    },
    {
      "cell_type": "code",
      "source": [
        "edges = [(0, 1), (1, 5), (5, 6), (5, 4), (1, 2),\n",
        "\t\t(1, 3), (9, 10), (2, 4), (0, 6), (6, 7),\n",
        "\t\t(8, 9), (7, 8), (1, 7), (3, 9)]\n",
        "\n",
        "goal = 10\n",
        "G = nx.Graph()\n",
        "G.add_edges_from(edges)\n",
        "pos = nx.spring_layout(G)\n",
        "nx.draw_networkx_nodes(G, pos)\n",
        "nx.draw_networkx_edges(G, pos)\n",
        "nx.draw_networkx_labels(G, pos)\n",
        "pl.show()\n"
      ],
      "metadata": {
        "colab": {
          "base_uri": "https://localhost:8080/",
          "height": 248
        },
        "id": "pc5FEhB4gy9v",
        "outputId": "e246ad8f-7713-4df0-fa6c-1b7235d9ccda"
      },
      "execution_count": 2,
      "outputs": [
        {
          "output_type": "display_data",
          "data": {
            "text/plain": [
              "<Figure size 432x288 with 1 Axes>"
            ],
            "image/png": "[encoded data removed]"
          },
          "metadata": {}
        }
      ]
    },
    {
      "cell_type": "code",
      "source": [
        "MATRIX_SIZE = 11\n",
        "M = np.matrix(np.ones(shape =(MATRIX_SIZE, MATRIX_SIZE)))\n",
        "M *= -1\n",
        "\n",
        "for point in edges:\n",
        "\tprint(point)\n",
        "\tif point[1] == goal:\n",
        "\t\tM[point] = 100\n",
        "\telse:\n",
        "\t\tM[point] = 0\n",
        "\n",
        "\tif point[0] == goal:\n",
        "\t\tM[point[::-1]] = 100\n",
        "\telse:\n",
        "\t\tM[point[::-1]]= 0\n",
        "\t\t# reverse of point\n",
        "\n",
        "M[goal, goal]= 100\n",
        "print(M)\n",
        "# add goal point round trip\n"
      ],
      "metadata": {
        "colab": {
          "base_uri": "https://localhost:8080/"
        },
        "id": "ZOWTam2yg1Q7",
        "outputId": "9bed8bbb-69a9-4360-8343-03d220d65ed0"
      },
      "execution_count": 3,
      "outputs": [
        {
          "output_type": "stream",
          "name": "stdout",
          "text": [
            "(0, 1)\n",
            "(1, 5)\n",
            "(5, 6)\n",
            "(5, 4)\n",
            "(1, 2)\n",
            "(1, 3)\n",
            "(9, 10)\n",
            "(2, 4)\n",
            "(0, 6)\n",
            "(6, 7)\n",
            "(8, 9)\n",
            "(7, 8)\n",
            "(1, 7)\n",
            "(3, 9)\n",
            "[[ -1.   0.  -1.  -1.  -1.  -1.   0.  -1.  -1.  -1.  -1.]\n",
            " [  0.  -1.   0.   0.  -1.   0.  -1.   0.  -1.  -1.  -1.]\n",
            " [ -1.   0.  -1.  -1.   0.  -1.  -1.  -1.  -1.  -1.  -1.]\n",
            " [ -1.   0.  -1.  -1.  -1.  -1.  -1.  -1.  -1.   0.  -1.]\n",
            " [ -1.  -1.   0.  -1.  -1.   0.  -1.  -1.  -1.  -1.  -1.]\n",
            " [ -1.   0.  -1.  -1.   0.  -1.   0.  -1.  -1.  -1.  -1.]\n",
            " [  0.  -1.  -1.  -1.  -1.   0.  -1.   0.  -1.  -1.  -1.]\n",
            " [ -1.   0.  -1.  -1.  -1.  -1.   0.  -1.   0.  -1.  -1.]\n",
            " [ -1.  -1.  -1.  -1.  -1.  -1.  -1.   0.  -1.   0.  -1.]\n",
            " [ -1.  -1.  -1.   0.  -1.  -1.  -1.  -1.   0.  -1. 100.]\n",
            " [ -1.  -1.  -1.  -1.  -1.  -1.  -1.  -1.  -1.   0. 100.]]\n"
          ]
        }
      ]
    },
    {
      "cell_type": "code",
      "source": [
        "Q = np.matrix(np.zeros([MATRIX_SIZE, MATRIX_SIZE]))\n",
        "\n",
        "gamma = 0.75\n",
        "# learning parameter\n",
        "initial_state = 1\n",
        "\n",
        "# Determines the available actions for a given state\n",
        "def available_actions(state):\n",
        "\tcurrent_state_row = M[state, ]\n",
        "\tavailable_action = np.where(current_state_row >= 0)[1]\n",
        "\treturn available_action\n",
        "\n",
        "available_action = available_actions(initial_state)\n",
        "\n",
        "# Chooses one of the available actions at random\n",
        "def sample_next_action(available_actions_range):\n",
        "\tnext_action = int(np.random.choice(available_action, 1))\n",
        "\treturn next_action\n",
        "\n",
        "\n",
        "action = sample_next_action(available_action)\n",
        "\n",
        "def update(current_state, action, gamma):\n",
        "\n",
        "  max_index = np.where(Q[action, ] == np.max(Q[action, ]))[1]\n",
        "  if max_index.shape[0] > 1:\n",
        "    max_index = int(np.random.choice(max_index, size = 1))\n",
        "  else:\n",
        "    max_index = int(max_index)\n",
        "  max_value = Q[action, max_index]\n",
        "  Q[current_state, action] = M[current_state, action] + gamma * max_value\n",
        "  if (np.max(Q) > 0):\n",
        "    return(np.sum(Q / np.max(Q)*100))\n",
        "  else:\n",
        "\t  return (0)\n",
        "# Updates the Q-Matrix according to the path chosen\n",
        "\n",
        "update(initial_state, action, gamma)\n"
      ],
      "metadata": {
        "colab": {
          "base_uri": "https://localhost:8080/"
        },
        "id": "OZ-t3uPsg4w8",
        "outputId": "b1b0d443-5b61-46ea-9e53-98be408356a6"
      },
      "execution_count": 5,
      "outputs": [
        {
          "output_type": "execute_result",
          "data": {
            "text/plain": [
              "0"
            ]
          },
          "metadata": {},
          "execution_count": 5
        }
      ]
    },
    {
      "cell_type": "code",
      "source": [
        "scores = []\n",
        "for i in range(1000):\n",
        "\tcurrent_state = np.random.randint(0, int(Q.shape[0]))\n",
        "\tavailable_action = available_actions(current_state)\n",
        "\taction = sample_next_action(available_action)\n",
        "\tscore = update(current_state, action, gamma)\n",
        "\tscores.append(score)\n",
        "\n",
        "print(\"Trained Q matrix:\")\n",
        "print(Q / np.max(Q)*100)\n",
        "# You can uncomment the above two lines to view the trained Q matrix\n",
        "\n",
        "# Testing\n",
        "current_state = 0\n",
        "steps = [current_state]\n",
        "\n",
        "while current_state != 10:\n",
        "\n",
        "\tnext_step_index = np.where(Q[current_state, ] == np.max(Q[current_state, ]))[1]\n",
        "\tif next_step_index.shape[0] > 1:\n",
        "\t\tnext_step_index = int(np.random.choice(next_step_index, size = 1))\n",
        "\telse:\n",
        "\t\tnext_step_index = int(next_step_index)\n",
        "\tsteps.append(next_step_index)\n",
        "\tcurrent_state = next_step_index\n",
        "\n",
        "print(\"Most efficient path:\")\n",
        "print(steps)\n",
        "\n",
        "pl.plot(scores)\n",
        "pl.xlabel('No of iterations')\n",
        "pl.ylabel('Reward gained')\n",
        "pl.show()\n"
      ],
      "metadata": {
        "colab": {
          "base_uri": "https://localhost:8080/",
          "height": 915
        },
        "id": "OduuAiMSg9ks",
        "outputId": "8605b95f-5149-4240-e11e-bca022bf5978"
      },
      "execution_count": 9,
      "outputs": [
        {
          "output_type": "stream",
          "name": "stdout",
          "text": [
            "Trained Q matrix:\n",
            "[[  0.          42.18749999   0.           0.           0.\n",
            "    0.          31.64062499   0.           0.           0.\n",
            "    0.        ]\n",
            " [ 31.640625     0.          31.640625    56.24999999   0.\n",
            "   31.640625     0.          42.18749999   0.           0.\n",
            "    0.        ]\n",
            " [  0.          42.18749999   0.           0.          23.73046875\n",
            "    0.           0.           0.           0.           0.\n",
            "    0.        ]\n",
            " [  0.          42.18749999   0.           0.           0.\n",
            "    0.           0.           0.           0.          75.\n",
            "    0.        ]\n",
            " [  0.           0.          31.640625     0.           0.\n",
            "   31.640625     0.           0.           0.           0.\n",
            "    0.        ]\n",
            " [  0.          42.18749999   0.           0.          23.73046875\n",
            "    0.          31.64062499   0.           0.           0.\n",
            "    0.        ]\n",
            " [ 31.640625     0.           0.           0.           0.\n",
            "   31.640625     0.          42.18749999   0.           0.\n",
            "    0.        ]\n",
            " [  0.          42.18749999   0.           0.           0.\n",
            "    0.          31.64062499   0.          56.25         0.\n",
            "    0.        ]\n",
            " [  0.           0.           0.           0.           0.\n",
            "    0.           0.          42.18749999   0.          75.\n",
            "    0.        ]\n",
            " [  0.           0.           0.          56.25         0.\n",
            "    0.           0.           0.          56.25         0.\n",
            "  100.        ]\n",
            " [  0.           0.           0.           0.           0.\n",
            "    0.           0.           0.           0.          75.\n",
            "  100.        ]]\n",
            "Most efficient path:\n",
            "[0, 1, 3, 9, 10]\n"
          ]
        },
        {
          "output_type": "display_data",
          "data": {
            "text/plain": [
              "<Figure size 432x288 with 1 Axes>"
            ],
            "image/png": "[encoded data removed]"
          },
          "metadata": {
            "needs_background": "light"
          }
        }
      ]
    }
  ]
}